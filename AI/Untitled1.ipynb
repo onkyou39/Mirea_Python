{
 "cells": [
  {
   "cell_type": "markdown",
   "id": "ebd83385",
   "metadata": {},
   "source": [
    "# 1.1. Теоретический материал – Типы данных\n",
    "**Типы данных**  \n",
    "Все типы данных в Python относятся к одной из 2-х категорий:\n",
    "изменяемые (mutable) и неизменяемые (immutable).  \n",
    "Неизменяемые объекты:\n",
    "- числовые данные (int, float),\n",
    "- bool,\n",
    "- None,\n",
    "- символьные строки (class 'str'),\n",
    "- кортежи (tuple).  \n",
    "\n",
    "Изменяемые объекты:\n",
    "- списки (list),\n",
    "- множества (set),\n",
    "- словари (dict)."
   ]
  },
  {
   "cell_type": "markdown",
   "id": "ca6a978a",
   "metadata": {},
   "source": [
    "# 1.3 Задание"
   ]
  },
  {
   "cell_type": "code",
   "execution_count": 5,
   "id": "41ce9aa5",
   "metadata": {},
   "outputs": [
    {
     "name": "stdout",
     "output_type": "stream",
     "text": [
      "True\n",
      "{8, 1, 3, 7}\n",
      "{2, 10, 4, 5}\n",
      "set()\n",
      "('Антонова Антонина', 34, 'ж')\n",
      "type\n",
      "[1, 'title', 2, 'content']\n"
     ]
    }
   ],
   "source": [
    "x = 5 >=2\n",
    "print(x)\n",
    "A = {1, 3, 7, 8}\n",
    "print(A)\n",
    "B = {2, 4, 5, 10}\n",
    "print(B)\n",
    "C = A & B\n",
    "print(C)\n",
    "df = 'Антонова Антонина', 34, 'ж'\n",
    "print(df)\n",
    "z = 'type'\n",
    "print(z)\n",
    "D = [1, 'title', 2, 'content']\n",
    "print(D)"
   ]
  },
  {
   "cell_type": "markdown",
   "id": "72c0dab1",
   "metadata": {},
   "source": [
    "# 2.1 Теоретический материал - Условный оператор\n",
    "**If - Условный оператор**  \n",
    "В коде часто приходится проверять выполнимость или невыполнимость каких-то условий. Синтаксис:  \n",
    "if<условие1 (булевское выражение)>:  \n",
    "<код, который выполнится, если условие верно>  \n",
    "elif<условие2(булевское выражение)>:  \n",
    "<код, который выполнится, если условие1 было неверно, а условие2 верно>  \n",
    "else:  \n",
    "<код, который выполнится, если условие1 и условие2 были неверны>\n",
    "    "
   ]
  },
  {
   "cell_type": "markdown",
   "id": "e0b9336e",
   "metadata": {},
   "source": [
    "# 2.3 Задание"
   ]
  },
  {
   "cell_type": "code",
   "execution_count": 6,
   "id": "1d6249ef",
   "metadata": {},
   "outputs": [
    {
     "name": "stdout",
     "output_type": "stream",
     "text": [
      "x ∈ (5, +∝)\n"
     ]
    }
   ],
   "source": [
    "x = 100\n",
    "if x < -5:\n",
    "    print(\"x ∈ (-∝, -5)\")\n",
    "elif x > 5:\n",
    "    print(\"x ∈ (5, +∝)\")\n",
    "else:\n",
    "    print(\"x ∈ [-5, 5]\")"
   ]
  },
  {
   "cell_type": "markdown",
   "id": "450fbb41",
   "metadata": {},
   "source": [
    "# 3.1. Теоретический материал - Циклы, массивы, срезы\n",
    "**Циклы - for и while**  \n",
    "Цикл **while** проверяет истинность условия, и если условие истинно, то выполняет инструкции цикла.  \n",
    "Синтаксис:  \n",
    "while условие:  \n",
    "инструкции  \n",
    "Инструкции, которые относятся к циклу while, располагаются на последующих строках и должны иметь отступ от начала ключевого слова while.  \n",
    "Цикл **for** проходит по набору значений, помещает каждое значение в переменную с которой в цикле можно производить ралзличные действия.  \n",
    "Синтаксис:  \n",
    "for переменная in набор_значений:  \n",
    "инструкции  \n",
    "После ключевого слова **for** идет название переменной, в которую будут помещаться знрачения. После оператора int указывается набор значений и двоетоиче. Инструкции, которые относятся к циклу, располагаются на последующих строках и должны иметь отступ.  \n",
    "При создании цикла удобно пользоваться функцией **range(a, b)**, которая создает последовательность чисел от **a** до **b-1**."
   ]
  },
  {
   "cell_type": "markdown",
   "id": "79db8675",
   "metadata": {},
   "source": [
    "# 3.3.1 Задание"
   ]
  },
  {
   "cell_type": "code",
   "execution_count": 10,
   "id": "7c69dd2a",
   "metadata": {},
   "outputs": [
    {
     "name": "stdout",
     "output_type": "stream",
     "text": [
      "10\n",
      "7\n",
      "4\n",
      "1\n"
     ]
    }
   ],
   "source": [
    "x = 10\n",
    "while x >= 1:\n",
    "    print(x)\n",
    "    x -= 3"
   ]
  },
  {
   "cell_type": "markdown",
   "id": "4e2b8fd2",
   "metadata": {},
   "source": [
    "# 3.3.2 Задание"
   ]
  },
  {
   "cell_type": "code",
   "execution_count": null,
   "id": "921896dd",
   "metadata": {},
   "outputs": [],
   "source": []
  },
  {
   "cell_type": "markdown",
   "id": "4bd80a8f",
   "metadata": {},
   "source": [
    "# 3.3.3 Задание"
   ]
  },
  {
   "cell_type": "code",
   "execution_count": null,
   "id": "4b751665",
   "metadata": {},
   "outputs": [],
   "source": []
  },
  {
   "cell_type": "markdown",
   "id": "ca31503e",
   "metadata": {},
   "source": [
    "# 3.3.4 Задание"
   ]
  },
  {
   "cell_type": "code",
   "execution_count": null,
   "id": "07256cf5",
   "metadata": {},
   "outputs": [],
   "source": []
  },
  {
   "cell_type": "markdown",
   "id": "388bee77",
   "metadata": {},
   "source": [
    "# 3.3.5 Задание"
   ]
  },
  {
   "cell_type": "code",
   "execution_count": null,
   "id": "cf189bdf",
   "metadata": {},
   "outputs": [],
   "source": []
  },
  {
   "cell_type": "markdown",
   "id": "169e1b68",
   "metadata": {},
   "source": [
    "# 4.1. Теоретический материал - Библиотеки\n",
    "Машинное обучение опирается на фундаментальные понятия и законы\n",
    "математики и информатики. Библиотека математических функций (math)\n",
    "применяется при решении большинства прикладных задач анализа данных.\n",
    "Также, и некоторые другие библиотеки Python содержат математические\n",
    "функции (например, NumPy). Важную роль играет библиотека matplotlib,\n",
    "которая позволяет производить визуализацию расчетов в удобной для\n",
    "восприятия человеком форме: графики, диаграммы, гистограммы.  \n",
    "Подключение библиотек – синтаксис:  \n",
    "import math as m  \n",
    "import numpy as np  \n",
    "import matplotlib.pyplot as plt  \n",
    "etc…  \n",
    "Библиотеки в python содержат не только функции, позволяющие решать\n",
    "различные задачи, но и некоторые популярные константы, например число\n",
    "Эйлера."
   ]
  },
  {
   "cell_type": "markdown",
   "id": "d17148f6",
   "metadata": {},
   "source": [
    "# 4.3.1 Задание"
   ]
  },
  {
   "cell_type": "code",
   "execution_count": null,
   "id": "db47fdb7",
   "metadata": {},
   "outputs": [],
   "source": []
  },
  {
   "cell_type": "markdown",
   "id": "828e645a",
   "metadata": {},
   "source": [
    "# 4.3.2 Задание"
   ]
  },
  {
   "cell_type": "code",
   "execution_count": null,
   "id": "1c35874e",
   "metadata": {},
   "outputs": [],
   "source": []
  },
  {
   "cell_type": "markdown",
   "id": "f61250f4",
   "metadata": {},
   "source": [
    "# 4.3.3 Задание"
   ]
  },
  {
   "cell_type": "code",
   "execution_count": null,
   "id": "aac636b1",
   "metadata": {},
   "outputs": [],
   "source": []
  },
  {
   "cell_type": "markdown",
   "id": "02b1b716",
   "metadata": {},
   "source": [
    "# 4.3.4 Задание"
   ]
  },
  {
   "cell_type": "code",
   "execution_count": null,
   "id": "30ea3620",
   "metadata": {},
   "outputs": [],
   "source": []
  },
  {
   "cell_type": "markdown",
   "id": "b4eba5e7",
   "metadata": {},
   "source": [
    "# 4.3.5 Задание"
   ]
  },
  {
   "cell_type": "code",
   "execution_count": 13,
   "id": "77aa9a9c",
   "metadata": {},
   "outputs": [],
   "source": [
    "from matplotlib import pyplot as plt\n",
    "import numpy as np\n",
    "\n",
    "def foo(x):\n",
    "    return np.sqrt(1 + np.e ** np.sqrt(x) + np.cos(x) ** 2) \\\n",
    "           / np.abs(1 - np.sin(x) ** 3) + np.log(np.abs(2 * x), np.e)"
   ]
  },
  {
   "cell_type": "code",
   "execution_count": null,
   "id": "78d0bea0",
   "metadata": {},
   "outputs": [],
   "source": []
  }
 ],
 "metadata": {
  "kernelspec": {
   "display_name": "Python 3 (ipykernel)",
   "language": "python",
   "name": "python3"
  },
  "language_info": {
   "codemirror_mode": {
    "name": "ipython",
    "version": 3
   },
   "file_extension": ".py",
   "mimetype": "text/x-python",
   "name": "python",
   "nbconvert_exporter": "python",
   "pygments_lexer": "ipython3",
   "version": "3.9.12"
  }
 },
 "nbformat": 4,
 "nbformat_minor": 5
}
